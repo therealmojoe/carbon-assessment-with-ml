{
 "cells": [
  {
   "attachments": {},
   "cell_type": "markdown",
   "metadata": {},
   "source": [
    "## Demo Notebook for CaML paper\n",
    "This notebook shows how you can use text similarity matching to estimate the manufacturing emissions (cradle-to-gate) of a product using economic input-output life cycle assessment (EIO-LCA). We use a language model to match the product with a North American Industry Classification System (NAICS) defined industry sector. The emissions are based on USEEIO database published by the United States Environmental Protection Agency (US EPA).  \n",
    "\n",
    "We recommend running this notebook on a GPU machine for fast inference. "
   ]
  },
  {
   "cell_type": "code",
   "execution_count": 1,
   "metadata": {},
   "outputs": [],
   "source": [
    "import pandas as pd\n",
    "from sentence_transformers import SentenceTransformer, util\n",
    "from caml.eio import naics"
   ]
  },
  {
   "cell_type": "code",
   "execution_count": 3,
   "metadata": {},
   "outputs": [
    {
     "name": "stdout",
     "output_type": "stream",
     "text": [
      "18855\n"
     ]
    },
    {
     "data": {
      "text/html": [
       "<div>\n",
       "<style scoped>\n",
       "    .dataframe tbody tr th:only-of-type {\n",
       "        vertical-align: middle;\n",
       "    }\n",
       "\n",
       "    .dataframe tbody tr th {\n",
       "        vertical-align: top;\n",
       "    }\n",
       "\n",
       "    .dataframe thead th {\n",
       "        text-align: right;\n",
       "    }\n",
       "</style>\n",
       "<table border=\"1\" class=\"dataframe\">\n",
       "  <thead>\n",
       "    <tr style=\"text-align: right;\">\n",
       "      <th></th>\n",
       "      <th>naics_desc</th>\n",
       "      <th>naics_code</th>\n",
       "      <th>bea_code</th>\n",
       "      <th>co2e_per_dollar</th>\n",
       "      <th>bea_desc</th>\n",
       "    </tr>\n",
       "  </thead>\n",
       "  <tbody>\n",
       "    <tr>\n",
       "      <th>0</th>\n",
       "      <td>AM radio stations</td>\n",
       "      <td>515112</td>\n",
       "      <td>515100</td>\n",
       "      <td>0.087</td>\n",
       "      <td>Radio and television broadcasting</td>\n",
       "    </tr>\n",
       "    <tr>\n",
       "      <th>1</th>\n",
       "      <td>ASPs (Application Service Providers)</td>\n",
       "      <td>518210</td>\n",
       "      <td>518200</td>\n",
       "      <td>0.175</td>\n",
       "      <td>Data processing, hosting, and related services</td>\n",
       "    </tr>\n",
       "    <tr>\n",
       "      <th>2</th>\n",
       "      <td>ATMs (automatic teller machines) installation</td>\n",
       "      <td>238290</td>\n",
       "      <td>233210</td>\n",
       "      <td>0.281</td>\n",
       "      <td>Health care structures</td>\n",
       "    </tr>\n",
       "    <tr>\n",
       "      <th>3</th>\n",
       "      <td>ATMs (automatic teller machines) manufacturing</td>\n",
       "      <td>334118</td>\n",
       "      <td>334118</td>\n",
       "      <td>0.199</td>\n",
       "      <td>Computer terminals and other computer peripher...</td>\n",
       "    </tr>\n",
       "    <tr>\n",
       "      <th>4</th>\n",
       "      <td>Abattoirs</td>\n",
       "      <td>311611</td>\n",
       "      <td>31161A</td>\n",
       "      <td>2.047</td>\n",
       "      <td>Animal (except poultry) slaughtering, renderin...</td>\n",
       "    </tr>\n",
       "  </tbody>\n",
       "</table>\n",
       "</div>"
      ],
      "text/plain": [
       "                                       naics_desc  naics_code bea_code  \\\n",
       "0                               AM radio stations      515112   515100   \n",
       "1            ASPs (Application Service Providers)      518210   518200   \n",
       "2   ATMs (automatic teller machines) installation      238290   233210   \n",
       "3  ATMs (automatic teller machines) manufacturing      334118   334118   \n",
       "4                                       Abattoirs      311611   31161A   \n",
       "\n",
       "   co2e_per_dollar                                           bea_desc  \n",
       "0            0.087                  Radio and television broadcasting  \n",
       "1            0.175     Data processing, hosting, and related services  \n",
       "2            0.281                             Health care structures  \n",
       "3            0.199  Computer terminals and other computer peripher...  \n",
       "4            2.047  Animal (except poultry) slaughtering, renderin...  "
      ]
     },
     "execution_count": 3,
     "metadata": {},
     "output_type": "execute_result"
    }
   ],
   "source": [
    "naics_df = naics.get_naics_data()\n",
    "naics_list = naics_df.naics_desc.values\n",
    "print(len(naics_list))\n",
    "naics_df.head()"
   ]
  },
  {
   "cell_type": "code",
   "execution_count": 2,
   "metadata": {},
   "outputs": [],
   "source": [
    "product_list = [\n",
    "    \"chocolate chip cookie\",\n",
    "    \"mint tea\",\n",
    "    \"bottled water\",\n",
    "    \"wet canned cat food\",\n",
    "    \"apple juice\",\n",
    "]"
   ]
  },
  {
   "cell_type": "code",
   "execution_count": 5,
   "metadata": {},
   "outputs": [],
   "source": [
    "model = SentenceTransformer('all-mpnet-base-v2')\n",
    "naics_list = naics_df.naics_desc.values\n",
    "prod_embeddings = model.encode(product_list, convert_to_tensor=True)\n",
    "naics_embeddings = model.encode(naics_list, convert_to_tensor=True)\n",
    "cosine_scores = util.pytorch_cos_sim(prod_embeddings, naics_embeddings)"
   ]
  },
  {
   "cell_type": "code",
   "execution_count": 6,
   "metadata": {},
   "outputs": [
    {
     "data": {
      "text/html": [
       "<div>\n",
       "<style scoped>\n",
       "    .dataframe tbody tr th:only-of-type {\n",
       "        vertical-align: middle;\n",
       "    }\n",
       "\n",
       "    .dataframe tbody tr th {\n",
       "        vertical-align: top;\n",
       "    }\n",
       "\n",
       "    .dataframe thead th {\n",
       "        text-align: right;\n",
       "    }\n",
       "</style>\n",
       "<table border=\"1\" class=\"dataframe\">\n",
       "  <thead>\n",
       "    <tr style=\"text-align: right;\">\n",
       "      <th></th>\n",
       "      <th>product</th>\n",
       "      <th>naics_code</th>\n",
       "      <th>naics_title</th>\n",
       "      <th>co2e_per_dollar</th>\n",
       "      <th>cosine_score</th>\n",
       "    </tr>\n",
       "  </thead>\n",
       "  <tbody>\n",
       "    <tr>\n",
       "      <th>0</th>\n",
       "      <td>chocolate chip cookie</td>\n",
       "      <td>311821.0</td>\n",
       "      <td>Cookie and Cracker Manufacturing</td>\n",
       "      <td>0.875952</td>\n",
       "      <td>0.596</td>\n",
       "    </tr>\n",
       "    <tr>\n",
       "      <th>1</th>\n",
       "      <td>mint tea</td>\n",
       "      <td>311920.0</td>\n",
       "      <td>Coffee and Tea Manufacturing</td>\n",
       "      <td>0.604888</td>\n",
       "      <td>0.736</td>\n",
       "    </tr>\n",
       "    <tr>\n",
       "      <th>2</th>\n",
       "      <td>bottled water</td>\n",
       "      <td>312112.0</td>\n",
       "      <td>Bottled Water Manufacturing</td>\n",
       "      <td>0.689474</td>\n",
       "      <td>0.643</td>\n",
       "    </tr>\n",
       "    <tr>\n",
       "      <th>3</th>\n",
       "      <td>wet canned cat food</td>\n",
       "      <td>311111.0</td>\n",
       "      <td>Dog and Cat Food Manufacturing</td>\n",
       "      <td>1.033690</td>\n",
       "      <td>0.743</td>\n",
       "    </tr>\n",
       "    <tr>\n",
       "      <th>4</th>\n",
       "      <td>apple juice</td>\n",
       "      <td>312111.0</td>\n",
       "      <td>Soft Drink Manufacturing</td>\n",
       "      <td>0.689474</td>\n",
       "      <td>0.573</td>\n",
       "    </tr>\n",
       "  </tbody>\n",
       "</table>\n",
       "</div>"
      ],
      "text/plain": [
       "                 product  naics_code                        naics_title  \\\n",
       "0  chocolate chip cookie    311821.0  Cookie and Cracker Manufacturing    \n",
       "1               mint tea    311920.0      Coffee and Tea Manufacturing    \n",
       "2          bottled water    312112.0       Bottled Water Manufacturing    \n",
       "3    wet canned cat food    311111.0    Dog and Cat Food Manufacturing    \n",
       "4            apple juice    312111.0          Soft Drink Manufacturing    \n",
       "\n",
       "   co2e_per_dollar  cosine_score  \n",
       "0         0.875952         0.596  \n",
       "1         0.604888         0.736  \n",
       "2         0.689474         0.643  \n",
       "3         1.033690         0.743  \n",
       "4         0.689474         0.573  "
      ]
     },
     "execution_count": 6,
     "metadata": {},
     "output_type": "execute_result"
    }
   ],
   "source": [
    "sorted_cs, indices = cosine_scores.sort(dim=1, descending=True)\n",
    "result_df = pd.DataFrame()\n",
    "\n",
    "for ix, product in enumerate(product_list):\n",
    "    sorted_activity_cs = sorted_cs[ix].cpu().numpy()\n",
    "    naics_ix = indices[ix].cpu().numpy()\n",
    "    result_df.loc[ix, 'activity'] = product    \n",
    "    result_df.loc[ix, 'naics_code'] = naics_df.loc[naics_ix[0], 'naics_code']\n",
    "    result_df.loc[ix, 'naics_desc'] = naics_df.loc[naics_ix[0], 'naics_desc']\n",
    "    result_df.loc[ix, 'bea_desc'] = naics_df.loc[naics_ix[0], 'bea_desc']\n",
    "    result_df.loc[ix, 'bea_code'] = naics_df.loc[naics_ix[0], 'bea_code']\n",
    "    result_df.loc[ix, 'co2e_per_dollar'] = naics_df.loc[naics_ix[0], 'co2e_per_dollar']\n",
    "    result_df.loc[ix, 'cosine_score'] = float(\"{:.3f}\".format(sorted_activity_cs[0]))\n",
    "\n",
    "\n",
    "result_df"
   ]
  },
  {
   "attachments": {},
   "cell_type": "markdown",
   "metadata": {},
   "source": [
    "#### Try your own product"
   ]
  },
  {
   "cell_type": "code",
   "execution_count": 28,
   "metadata": {},
   "outputs": [],
   "source": [
    "# Custom product name\n",
    "product = input()\n",
    "prod_embeddings = model.encode([product], convert_to_tensor=True)\n",
    "cosine_scores = util.pytorch_cos_sim(prod_embeddings, naics_embeddings)\n",
    "sorted_cs, indices = cosine_scores.sort(dim=1, descending=True)"
   ]
  },
  {
   "cell_type": "code",
   "execution_count": 29,
   "metadata": {},
   "outputs": [
    {
     "name": "stdout",
     "output_type": "stream",
     "text": [
      "The NAICS code for the product 'Organic Carrots' is 'Other Vegetable (except Potato) and Melon Farming'. Prediction confidence is: 58.5%.\n",
      "The cradle-to-gate carbon emission per dollar for this product is 0.997.\n"
     ]
    }
   ],
   "source": [
    "sorted_product_cs = sorted_cs[0].cpu().numpy()\n",
    "naics_ix = indices[0].cpu().numpy()\n",
    "naics_code = naics_df.loc[naics_ix[0], 'naics_code']\n",
    "naics_title = naics_df.loc[naics_ix[0], 'Title']\n",
    "co2e_per_dollar = naics_df.loc[naics_ix[0], 'eio_co2']\n",
    "cosine_score = float(\"{:.3f}\".format(sorted_product_cs[0]))\n",
    "\n",
    "print(\"The NAICS code for the product '{}' is '{}'. Prediction confidence is: {:.1f}%.\".format(product, naics_title.strip(), cosine_score*100))\n",
    "print(\"The cradle-to-gate carbon emission per dollar for this product is {:.3f}.\".format(co2e_per_dollar))"
   ]
  },
  {
   "cell_type": "code",
   "execution_count": null,
   "metadata": {},
   "outputs": [],
   "source": []
  },
  {
   "cell_type": "code",
   "execution_count": null,
   "metadata": {},
   "outputs": [],
   "source": []
  }
 ],
 "metadata": {
  "kernelspec": {
   "display_name": "caml",
   "language": "python",
   "name": "python3"
  },
  "language_info": {
   "codemirror_mode": {
    "name": "ipython",
    "version": 3
   },
   "file_extension": ".py",
   "mimetype": "text/x-python",
   "name": "python",
   "nbconvert_exporter": "python",
   "pygments_lexer": "ipython3",
   "version": "3.10.9"
  },
  "orig_nbformat": 4
 },
 "nbformat": 4,
 "nbformat_minor": 2
}
